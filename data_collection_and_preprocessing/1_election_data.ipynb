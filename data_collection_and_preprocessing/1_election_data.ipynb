{
 "cells": [
  {
   "cell_type": "code",
   "execution_count": 1,
   "metadata": {},
   "outputs": [],
   "source": [
    "from data_pipeline import DataPipeline"
   ]
  },
  {
   "cell_type": "markdown",
   "metadata": {},
   "source": [
    "# Data Collection"
   ]
  },
  {
   "cell_type": "code",
   "execution_count": 2,
   "metadata": {},
   "outputs": [
    {
     "name": "stdout",
     "output_type": "stream",
     "text": [
      "2022 candidates files already downloaded. Skipping... ⏩\n",
      "2022 social_media files already downloaded. Skipping... ⏩\n",
      "2022 voting_section files already downloaded. Skipping... ⏩\n"
     ]
    }
   ],
   "source": [
    "data_pipeline = DataPipeline()\n",
    "\n",
    "# Get data from the TSE website about the candidates and election results\n",
    "data_pipeline.collect_data(2022, \"candidates\", redownload=False)\n",
    "data_pipeline.collect_data(2022, \"social_media\", redownload=False)\n",
    "data_pipeline.collect_data(2022, \"voting_section\", redownload=False)\n",
    "# data_pipeline.collect_data(2022, \"ibge\", redownload=False) # This data was downloaded manually from ibge's website"
   ]
  },
  {
   "cell_type": "markdown",
   "metadata": {},
   "source": [
    "# Data Exploration and cleaning"
   ]
  },
  {
   "cell_type": "code",
   "execution_count": 3,
   "metadata": {},
   "outputs": [
    {
     "name": "stdout",
     "output_type": "stream",
     "text": [
      "Data transformation already done. ⏩\n"
     ]
    }
   ],
   "source": [
    "\n",
    "# # Step 2: Data exploration with SQL, clean data (remove useless columns),\n",
    "# merge data into one database, with each row representing a candidate\n",
    "data_pipeline.transform_to_sql_tables(done=True)\n",
    "\n",
    "# turn data into sql tables\n",
    "# also edit data_pipeline so we can access the sql tables directly by doing data_pipeline.something"
   ]
  },
  {
   "cell_type": "markdown",
   "metadata": {},
   "source": [
    "# Data exploration"
   ]
  },
  {
   "cell_type": "code",
   "execution_count": 4,
   "metadata": {},
   "outputs": [],
   "source": [
    "# use sql methods to discover data\n",
    "# make a table with number of votes per deputy\n",
    "# find correlation between number of votes and other features"
   ]
  }
 ],
 "metadata": {
  "kernelspec": {
   "display_name": "Python 3",
   "language": "python",
   "name": "python3"
  },
  "language_info": {
   "codemirror_mode": {
    "name": "ipython",
    "version": 3
   },
   "file_extension": ".py",
   "mimetype": "text/x-python",
   "name": "python",
   "nbconvert_exporter": "python",
   "pygments_lexer": "ipython3",
   "version": "3.10.12"
  },
  "orig_nbformat": 4
 },
 "nbformat": 4,
 "nbformat_minor": 2
}
