{
 "cells": [
  {
   "cell_type": "code",
   "execution_count": 157,
   "metadata": {},
   "outputs": [],
   "source": [
    "from data_pipeline import DataPipeline\n",
    "import warnings\n",
    "warnings.filterwarnings('ignore')"
   ]
  },
  {
   "cell_type": "markdown",
   "metadata": {},
   "source": [
    "# 📚 Data Collection"
   ]
  },
  {
   "cell_type": "code",
   "execution_count": 158,
   "metadata": {},
   "outputs": [
    {
     "name": "stdout",
     "output_type": "stream",
     "text": [
      "2022 candidates files already downloaded. Skipping... ⏩\n",
      "2022 social_media files already downloaded. Skipping... ⏩\n",
      "2022 voting_section files already downloaded. Skipping... ⏩\n",
      "2022 ibge files already downloaded. Skipping... ⏩\n"
     ]
    }
   ],
   "source": [
    "data_pipeline = DataPipeline()\n",
    "\n",
    "# Get data from the TSE website about the candidates and election results\n",
    "data_pipeline.collect_data(2022, \"candidates\", redownload=False)\n",
    "data_pipeline.collect_data(2022, \"social_media\", redownload=False)\n",
    "data_pipeline.collect_data(2022, \"voting_section\", redownload=False)\n",
    "data_pipeline.collect_data(2022, \"ibge\", redownload=False)"
   ]
  },
  {
   "cell_type": "markdown",
   "metadata": {},
   "source": [
    "## Tables"
   ]
  },
  {
   "cell_type": "markdown",
   "metadata": {},
   "source": [
    "### Voting section table\n",
    "Information about voting places. Each row contains the following relevant infomation:\n",
    "- Votes per voting section per round per votable entity: Column `\"QT_VOTOS\"`\n",
    "- Voting section: Column `\"NM_LOCAL_VOTACAO\"`\n",
    "- Round: Tells us if it's the first or second round, `\"NR_TURNO\"`\n",
    "- Votable entity: This is not really a column, instead, it is a way to identify who/what we can vote for, which are:\n",
    "  - People (candidates), which can be identified by the column `\"SQ_CANDIDATO\"`\n",
    "  - Non-people, these can only be identified by the columns `\"NR_VOTAVEL\"` and `\"DS_CARGO\"`. The first tells us which one of the following entities are being votes for, the second column tells us for what position those votes are, which is important to differentiate Null votes for president and for governor, for example.\n",
    "    - Null vote\n",
    "    - White vote\n",
    "    - Party vote\n",
    "  \n",
    "    So we can identify each votable entity by three columns: `\"SQ_CANDIDATO\"`, `\"NR_VOTAVEL\"` and `\"DS_CARGO\"`."
   ]
  },
  {
   "cell_type": "markdown",
   "metadata": {},
   "source": [
    "### Candidates table\n",
    "Information about each candidate. For example, if people can vote for them (some candidates are excluded from the election before the voting day). Each row contains a different candidate."
   ]
  },
  {
   "cell_type": "markdown",
   "metadata": {},
   "source": [
    "### Social media table\n",
    "Candidates' social media. Each row contains one social media link of a candidate, if they have multiple social media, they'll appear in multiple rows."
   ]
  },
  {
   "cell_type": "markdown",
   "metadata": {},
   "source": [
    "### Ibge table\n",
    "Information about Brazilian states, like their population, population density, and Human Development Index (HDI)"
   ]
  },
  {
   "cell_type": "markdown",
   "metadata": {},
   "source": [
    "# 🕵️‍♂️🛠️ Data Exploration and cleaning"
   ]
  },
  {
   "cell_type": "code",
   "execution_count": 159,
   "metadata": {},
   "outputs": [
    {
     "name": "stdout",
     "output_type": "stream",
     "text": [
      "Data transformation already done. ⏩\n"
     ]
    }
   ],
   "source": [
    "data_pipeline.transform_to_sql_tables(directories=None)\n",
    "# also edit data_pipeline so we can access the sql tables directly by doing data_pipeline.something\n",
    "\n",
    "# Useful variables\n",
    "UF = 'SC'\n",
    "table_name = {\n",
    "    'candidates': f'consulta_cand_2022_',\n",
    "    'social_media': f'rede_social_candidato_2022_',\n",
    "    'voting_section': f'votacao_secao_2022_'\n",
    "}\n",
    "total_votes_table_name = f'votacao_total_2022'\n",
    "all_candidates_table_name = f'consulta_cand_2022'\n"
   ]
  },
  {
   "cell_type": "markdown",
   "metadata": {},
   "source": [
    "## Discovering voting section data"
   ]
  },
  {
   "cell_type": "markdown",
   "metadata": {},
   "source": [
    "We'll start by exploring the table that contains information about the number of votes each candidate had, which is the most important information for us."
   ]
  },
  {
   "cell_type": "code",
   "execution_count": 160,
   "metadata": {},
   "outputs": [
    {
     "data": {
      "text/html": [
       "<div>\n",
       "<style scoped>\n",
       "    .dataframe tbody tr th:only-of-type {\n",
       "        vertical-align: middle;\n",
       "    }\n",
       "\n",
       "    .dataframe tbody tr th {\n",
       "        vertical-align: top;\n",
       "    }\n",
       "\n",
       "    .dataframe thead th {\n",
       "        text-align: right;\n",
       "    }\n",
       "</style>\n",
       "<table border=\"1\" class=\"dataframe\">\n",
       "  <thead>\n",
       "    <tr style=\"text-align: right;\">\n",
       "      <th></th>\n",
       "      <th>NM_VOTAVEL</th>\n",
       "      <th>SQ_CANDIDATO</th>\n",
       "      <th>NR_VOTAVEL</th>\n",
       "      <th>QT_VOTOS</th>\n",
       "      <th>NM_LOCAL_VOTACAO</th>\n",
       "      <th>DS_CARGO</th>\n",
       "      <th>DT_GERACAO</th>\n",
       "      <th>HH_GERACAO</th>\n",
       "      <th>ANO_ELEICAO</th>\n",
       "      <th>CD_TIPO_ELEICAO</th>\n",
       "      <th>...</th>\n",
       "      <th>NR_SECAO</th>\n",
       "      <th>CD_CARGO</th>\n",
       "      <th>DS_CARGO</th>\n",
       "      <th>NR_VOTAVEL</th>\n",
       "      <th>NM_VOTAVEL</th>\n",
       "      <th>QT_VOTOS</th>\n",
       "      <th>NR_LOCAL_VOTACAO</th>\n",
       "      <th>SQ_CANDIDATO</th>\n",
       "      <th>NM_LOCAL_VOTACAO</th>\n",
       "      <th>DS_LOCAL_VOTACAO_ENDERECO</th>\n",
       "    </tr>\n",
       "  </thead>\n",
       "  <tbody>\n",
       "    <tr>\n",
       "      <th>0</th>\n",
       "      <td>EDMILSON CARLOS PEREIRA JUNIOR</td>\n",
       "      <td>240001604520</td>\n",
       "      <td>4477</td>\n",
       "      <td>17</td>\n",
       "      <td>ESCOLA BÁSICA MUNICIPAL BRIGADEIRO EDUARDO GOMES</td>\n",
       "      <td>DEPUTADO FEDERAL</td>\n",
       "      <td>01/11/2022</td>\n",
       "      <td>16:05:25</td>\n",
       "      <td>2022</td>\n",
       "      <td>2</td>\n",
       "      <td>...</td>\n",
       "      <td>280</td>\n",
       "      <td>6</td>\n",
       "      <td>DEPUTADO FEDERAL</td>\n",
       "      <td>4477</td>\n",
       "      <td>EDMILSON CARLOS PEREIRA JUNIOR</td>\n",
       "      <td>17</td>\n",
       "      <td>1546</td>\n",
       "      <td>240001604520</td>\n",
       "      <td>ESCOLA BÁSICA MUNICIPAL BRIGADEIRO EDUARDO GOMES</td>\n",
       "      <td>AVENIDA PEQUENO PRÍNCIPE, N. 2939</td>\n",
       "    </tr>\n",
       "    <tr>\n",
       "      <th>1</th>\n",
       "      <td>EDMILSON CARLOS PEREIRA JUNIOR</td>\n",
       "      <td>240001604520</td>\n",
       "      <td>4477</td>\n",
       "      <td>3</td>\n",
       "      <td>CENTRO EDUCACIONAL MUNICIPAL RENASCER</td>\n",
       "      <td>DEPUTADO FEDERAL</td>\n",
       "      <td>01/11/2022</td>\n",
       "      <td>16:05:25</td>\n",
       "      <td>2022</td>\n",
       "      <td>2</td>\n",
       "      <td>...</td>\n",
       "      <td>188</td>\n",
       "      <td>6</td>\n",
       "      <td>DEPUTADO FEDERAL</td>\n",
       "      <td>4477</td>\n",
       "      <td>EDMILSON CARLOS PEREIRA JUNIOR</td>\n",
       "      <td>3</td>\n",
       "      <td>1147</td>\n",
       "      <td>240001604520</td>\n",
       "      <td>CENTRO EDUCACIONAL MUNICIPAL RENASCER</td>\n",
       "      <td>RUA JOSÉ ANTÔNIO PEREIRA, S/N</td>\n",
       "    </tr>\n",
       "  </tbody>\n",
       "</table>\n",
       "<p>2 rows × 32 columns</p>\n",
       "</div>"
      ],
      "text/plain": [
       "                       NM_VOTAVEL  SQ_CANDIDATO NR_VOTAVEL QT_VOTOS  \\\n",
       "0  EDMILSON CARLOS PEREIRA JUNIOR  240001604520       4477       17   \n",
       "1  EDMILSON CARLOS PEREIRA JUNIOR  240001604520       4477        3   \n",
       "\n",
       "                                   NM_LOCAL_VOTACAO          DS_CARGO  \\\n",
       "0  ESCOLA BÁSICA MUNICIPAL BRIGADEIRO EDUARDO GOMES  DEPUTADO FEDERAL   \n",
       "1             CENTRO EDUCACIONAL MUNICIPAL RENASCER  DEPUTADO FEDERAL   \n",
       "\n",
       "   DT_GERACAO HH_GERACAO  ANO_ELEICAO  CD_TIPO_ELEICAO  ... NR_SECAO  \\\n",
       "0  01/11/2022   16:05:25         2022                2  ...      280   \n",
       "1  01/11/2022   16:05:25         2022                2  ...      188   \n",
       "\n",
       "   CD_CARGO          DS_CARGO NR_VOTAVEL                      NM_VOTAVEL  \\\n",
       "0         6  DEPUTADO FEDERAL       4477  EDMILSON CARLOS PEREIRA JUNIOR   \n",
       "1         6  DEPUTADO FEDERAL       4477  EDMILSON CARLOS PEREIRA JUNIOR   \n",
       "\n",
       "  QT_VOTOS NR_LOCAL_VOTACAO  SQ_CANDIDATO  \\\n",
       "0       17             1546  240001604520   \n",
       "1        3             1147  240001604520   \n",
       "\n",
       "                                   NM_LOCAL_VOTACAO  \\\n",
       "0  ESCOLA BÁSICA MUNICIPAL BRIGADEIRO EDUARDO GOMES   \n",
       "1             CENTRO EDUCACIONAL MUNICIPAL RENASCER   \n",
       "\n",
       "           DS_LOCAL_VOTACAO_ENDERECO  \n",
       "0  AVENIDA PEQUENO PRÍNCIPE, N. 2939  \n",
       "1      RUA JOSÉ ANTÔNIO PEREIRA, S/N  \n",
       "\n",
       "[2 rows x 32 columns]"
      ]
     },
     "execution_count": 160,
     "metadata": {},
     "output_type": "execute_result"
    }
   ],
   "source": [
    "\n",
    "data_pipeline.execute_query(f'''\n",
    "    SELECT \"NM_VOTAVEL\", \"SQ_CANDIDATO\", \"NR_VOTAVEL\", \"QT_VOTOS\", \"NM_LOCAL_VOTACAO\", \"DS_CARGO\", * \n",
    "    FROM public.\"{table_name[\"voting_section\"]}{UF}\" LIMIT 2\n",
    "''')"
   ]
  },
  {
   "cell_type": "markdown",
   "metadata": {},
   "source": [
    "To calculate the total votes per votable entity (explained in detail earlier), we'll group the data by candidate ID (\"SQ_CANDIDATO\"), voting number (\"NR_VOTAVEL), and political position (\"DS_CARGO\"), then sum up their \"QT_VOTOS\" column.\n",
    "\n",
    "Next, we'll store the calculated total votes as \"TOTAL_VOTOS,\" along with the three columns that identify the votable entities. This setup will allow us to perform JOIN operations with other tables."
   ]
  },
  {
   "cell_type": "markdown",
   "metadata": {},
   "source": [
    "## Creating table with total votes column from all states\n",
    "Let's merge all voting section tables (there's one for each Brazilian state) into a single table."
   ]
  },
  {
   "cell_type": "code",
   "execution_count": 169,
   "metadata": {},
   "outputs": [],
   "source": [
    "query = f'''\n",
    "CREATE TABLE IF NOT EXISTS public.\"{total_votes_table_name}\" AS\n",
    "SELECT * \n",
    "FROM (\n",
    "'''\n",
    "\n",
    "for UF in data_pipeline.UFs:\n",
    "    query += f'''\n",
    "    SELECT \"SQ_CANDIDATO\", \"NR_VOTAVEL\", SUM(\"QT_VOTOS\") AS \"TOTAL_VOTOS\", \"DS_CARGO\", \"SG_UF\", \"NR_TURNO\"\n",
    "    FROM public.\"{table_name[\"voting_section\"]}{UF}\"\n",
    "    GROUP BY \"SQ_CANDIDATO\", \"NR_VOTAVEL\", \"DS_CARGO\", \"SG_UF\", \"NR_TURNO\"\n",
    "    {f\"UNION ALL\" if UF != \"TO\" else \"\"} \n",
    "    '''\n",
    "\n",
    "query += ') AS subquery_alias;'\n",
    "\n",
    "# data_pipeline.execute_query(f'DROP TABLE IF EXISTS public.\"{total_votes_table_name}\";', is_ddl=True)\n",
    "data_pipeline.execute_query(query, is_ddl=True)"
   ]
  },
  {
   "cell_type": "markdown",
   "metadata": {},
   "source": [
    "Below we can see the resulting table, with only the essential columns. Because of the GROUP BY performed, this new table with data from all Brazilian states has orders of magnitude less rows as than any individual voting section table."
   ]
  },
  {
   "cell_type": "code",
   "execution_count": 170,
   "metadata": {},
   "outputs": [
    {
     "data": {
      "text/html": [
       "<div>\n",
       "<style scoped>\n",
       "    .dataframe tbody tr th:only-of-type {\n",
       "        vertical-align: middle;\n",
       "    }\n",
       "\n",
       "    .dataframe tbody tr th {\n",
       "        vertical-align: top;\n",
       "    }\n",
       "\n",
       "    .dataframe thead th {\n",
       "        text-align: right;\n",
       "    }\n",
       "</style>\n",
       "<table border=\"1\" class=\"dataframe\">\n",
       "  <thead>\n",
       "    <tr style=\"text-align: right;\">\n",
       "      <th></th>\n",
       "      <th>SQ_CANDIDATO</th>\n",
       "      <th>NR_VOTAVEL</th>\n",
       "      <th>TOTAL_VOTOS</th>\n",
       "      <th>DS_CARGO</th>\n",
       "      <th>SG_UF</th>\n",
       "      <th>NR_TURNO</th>\n",
       "    </tr>\n",
       "  </thead>\n",
       "  <tbody>\n",
       "    <tr>\n",
       "      <th>0</th>\n",
       "      <td>250001615967</td>\n",
       "      <td>10</td>\n",
       "      <td>13480643.0</td>\n",
       "      <td>GOVERNADOR</td>\n",
       "      <td>SP</td>\n",
       "      <td>2</td>\n",
       "    </tr>\n",
       "    <tr>\n",
       "      <th>1</th>\n",
       "      <td>250001612465</td>\n",
       "      <td>13</td>\n",
       "      <td>10909371.0</td>\n",
       "      <td>GOVERNADOR</td>\n",
       "      <td>SP</td>\n",
       "      <td>2</td>\n",
       "    </tr>\n",
       "  </tbody>\n",
       "</table>\n",
       "</div>"
      ],
      "text/plain": [
       "   SQ_CANDIDATO  NR_VOTAVEL  TOTAL_VOTOS    DS_CARGO SG_UF  NR_TURNO\n",
       "0  250001615967          10   13480643.0  GOVERNADOR    SP         2\n",
       "1  250001612465          13   10909371.0  GOVERNADOR    SP         2"
      ]
     },
     "execution_count": 170,
     "metadata": {},
     "output_type": "execute_result"
    }
   ],
   "source": [
    "data_pipeline.execute_query(f'SELECT * FROM public.\"{total_votes_table_name}\" ORDER BY \"TOTAL_VOTOS\" DESC LIMIT 2')"
   ]
  },
  {
   "cell_type": "markdown",
   "metadata": {},
   "source": [
    "## Discovering candidates data\n",
    "Here we'll get only columns that can have some correlation with the number of votes a candidate had."
   ]
  },
  {
   "cell_type": "code",
   "execution_count": 163,
   "metadata": {},
   "outputs": [
    {
     "data": {
      "text/html": [
       "<div>\n",
       "<style scoped>\n",
       "    .dataframe tbody tr th:only-of-type {\n",
       "        vertical-align: middle;\n",
       "    }\n",
       "\n",
       "    .dataframe tbody tr th {\n",
       "        vertical-align: top;\n",
       "    }\n",
       "\n",
       "    .dataframe thead th {\n",
       "        text-align: right;\n",
       "    }\n",
       "</style>\n",
       "<table border=\"1\" class=\"dataframe\">\n",
       "  <thead>\n",
       "    <tr style=\"text-align: right;\">\n",
       "      <th></th>\n",
       "      <th>NM_CANDIDATO</th>\n",
       "      <th>SQ_CANDIDATO</th>\n",
       "      <th>NR_CANDIDATO</th>\n",
       "      <th>DS_CARGO</th>\n",
       "      <th>DT_GERACAO</th>\n",
       "      <th>HH_GERACAO</th>\n",
       "      <th>ANO_ELEICAO</th>\n",
       "      <th>CD_TIPO_ELEICAO</th>\n",
       "      <th>NM_TIPO_ELEICAO</th>\n",
       "      <th>NR_TURNO</th>\n",
       "      <th>...</th>\n",
       "      <th>DS_SITUACAO_CANDIDATO_URNA</th>\n",
       "      <th>ST_CANDIDATO_INSERIDO_URNA</th>\n",
       "      <th>NM_TIPO_DESTINACAO_VOTOS</th>\n",
       "      <th>CD_SITUACAO_CANDIDATO_TOT</th>\n",
       "      <th>DS_SITUACAO_CANDIDATO_TOT</th>\n",
       "      <th>ST_PREST_CONTAS</th>\n",
       "      <th>ST_SUBSTITUIDO</th>\n",
       "      <th>SQ_SUBSTITUIDO</th>\n",
       "      <th>SQ_ORDEM_SUPLENCIA</th>\n",
       "      <th>DT_ACEITE_CANDIDATURA</th>\n",
       "    </tr>\n",
       "  </thead>\n",
       "  <tbody>\n",
       "    <tr>\n",
       "      <th>0</th>\n",
       "      <td>JOSYANNE FENELON DA MOTA PEREIRA</td>\n",
       "      <td>270001700732</td>\n",
       "      <td>28888</td>\n",
       "      <td>DEPUTADO ESTADUAL</td>\n",
       "      <td>14/08/2023</td>\n",
       "      <td>19:31:51</td>\n",
       "      <td>2022</td>\n",
       "      <td>2</td>\n",
       "      <td>ELEIÇÃO ORDINÁRIA</td>\n",
       "      <td>1</td>\n",
       "      <td>...</td>\n",
       "      <td>#NULO#</td>\n",
       "      <td>NÃO</td>\n",
       "      <td>#NULO#</td>\n",
       "      <td>-1</td>\n",
       "      <td>#NULO#</td>\n",
       "      <td>N</td>\n",
       "      <td>N</td>\n",
       "      <td>-1</td>\n",
       "      <td>-1</td>\n",
       "      <td>14/08/2022 19:12:59</td>\n",
       "    </tr>\n",
       "    <tr>\n",
       "      <th>1</th>\n",
       "      <td>DENIS DIAS MENDES</td>\n",
       "      <td>270001700723</td>\n",
       "      <td>28555</td>\n",
       "      <td>DEPUTADO ESTADUAL</td>\n",
       "      <td>14/08/2023</td>\n",
       "      <td>19:31:51</td>\n",
       "      <td>2022</td>\n",
       "      <td>2</td>\n",
       "      <td>ELEIÇÃO ORDINÁRIA</td>\n",
       "      <td>1</td>\n",
       "      <td>...</td>\n",
       "      <td>DEFERIDO</td>\n",
       "      <td>SIM</td>\n",
       "      <td>Válido</td>\n",
       "      <td>2</td>\n",
       "      <td>Deferido</td>\n",
       "      <td>S</td>\n",
       "      <td>N</td>\n",
       "      <td>-1</td>\n",
       "      <td>-1</td>\n",
       "      <td>14/08/2022 19:12:59</td>\n",
       "    </tr>\n",
       "  </tbody>\n",
       "</table>\n",
       "<p>2 rows × 79 columns</p>\n",
       "</div>"
      ],
      "text/plain": [
       "                       NM_CANDIDATO  SQ_CANDIDATO  NR_CANDIDATO  \\\n",
       "0  JOSYANNE FENELON DA MOTA PEREIRA  270001700732         28888   \n",
       "1                 DENIS DIAS MENDES  270001700723         28555   \n",
       "\n",
       "            DS_CARGO  DT_GERACAO HH_GERACAO  ANO_ELEICAO  CD_TIPO_ELEICAO  \\\n",
       "0  DEPUTADO ESTADUAL  14/08/2023   19:31:51         2022                2   \n",
       "1  DEPUTADO ESTADUAL  14/08/2023   19:31:51         2022                2   \n",
       "\n",
       "     NM_TIPO_ELEICAO  NR_TURNO  ...  DS_SITUACAO_CANDIDATO_URNA  \\\n",
       "0  ELEIÇÃO ORDINÁRIA         1  ...                      #NULO#   \n",
       "1  ELEIÇÃO ORDINÁRIA         1  ...                    DEFERIDO   \n",
       "\n",
       "  ST_CANDIDATO_INSERIDO_URNA NM_TIPO_DESTINACAO_VOTOS  \\\n",
       "0                        NÃO                   #NULO#   \n",
       "1                        SIM                   Válido   \n",
       "\n",
       "  CD_SITUACAO_CANDIDATO_TOT DS_SITUACAO_CANDIDATO_TOT ST_PREST_CONTAS  \\\n",
       "0                        -1                    #NULO#               N   \n",
       "1                         2                  Deferido               S   \n",
       "\n",
       "  ST_SUBSTITUIDO  SQ_SUBSTITUIDO SQ_ORDEM_SUPLENCIA  DT_ACEITE_CANDIDATURA  \n",
       "0              N              -1                 -1    14/08/2022 19:12:59  \n",
       "1              N              -1                 -1    14/08/2022 19:12:59  \n",
       "\n",
       "[2 rows x 79 columns]"
      ]
     },
     "execution_count": 163,
     "metadata": {},
     "output_type": "execute_result"
    }
   ],
   "source": [
    "data_pipeline.execute_query(f'''\n",
    "    SELECT \"NM_CANDIDATO\", \"SQ_CANDIDATO\", \"NR_CANDIDATO\", \"DS_CARGO\", * \n",
    "    FROM public.\"{table_name[\"candidates\"]}{UF}\" LIMIT 2\n",
    "''')"
   ]
  },
  {
   "cell_type": "markdown",
   "metadata": {},
   "source": [
    "The relevant columns are:\n",
    "- \"SQ_CANDIDATO\": essential to perform JOIN's with other tables\n",
    "- \"NM_CANDIDATO\": the candidate's name\n",
    "- \"NM_URNA_CANDIDATO\": the candidate's name as it appeared on the voting machine\n",
    "<!-- - \"TP_AGREMIACAO\": candidate party's coalition type -->\n",
    "- \"SG_PARTIDO\": candidate party's acronym\n",
    "- ...\n"
   ]
  },
  {
   "cell_type": "markdown",
   "metadata": {},
   "source": [
    "## Creating table with candidates from all states"
   ]
  },
  {
   "cell_type": "code",
   "execution_count": 164,
   "metadata": {},
   "outputs": [
    {
     "name": "stdout",
     "output_type": "stream",
     "text": [
      "An error occurred: column \"NR_VOTAVEL\" does not exist\n",
      "LINE 6:     SELECT \"SQ_CANDIDATO\", \"NR_VOTAVEL\", SUM(\"QT_VOTOS\") AS ...\n",
      "                                   ^\n",
      "\n"
     ]
    }
   ],
   "source": [
    "query = f'''\n",
    "CREATE TABLE IF NOT EXISTS public.\"{all_candidates_table_name}\" AS\n",
    "SELECT * \n",
    "FROM (\n",
    "'''\n",
    "\n",
    "for UF in data_pipeline.UFs:\n",
    "    query += f'''\n",
    "    SELECT \"SQ_CANDIDATO\", \"NR_VOTAVEL\", SUM(\"QT_VOTOS\") AS \"TOTAL_VOTOS\", \"DS_CARGO\", \"SG_UF\"\n",
    "    FROM public.\"{table_name[\"candidates\"]}{UF}\"\n",
    "    GROUP BY \"SQ_CANDIDATO\", \"NR_VOTAVEL\", \"DS_CARGO\", \"SG_UF\"\n",
    "    {f\"UNION ALL\" if UF != \"TO\" else \"\"} \n",
    "    '''\n",
    "\n",
    "query += ') AS subquery_alias;'\n",
    "\n",
    "# data_pipeline.execute_query(f'DROP TABLE IF EXISTS public.\"{total_votes_table_name}\";', is_ddl=True)\n",
    "data_pipeline.execute_query(query, is_ddl=True)"
   ]
  },
  {
   "cell_type": "markdown",
   "metadata": {},
   "source": [
    "## Merging created table with the candidates table"
   ]
  },
  {
   "cell_type": "code",
   "execution_count": 165,
   "metadata": {},
   "outputs": [
    {
     "name": "stdout",
     "output_type": "stream",
     "text": [
      "An error occurred: relation \"votacao_total_2022\" does not exist\n",
      "LINE 3:     FROM \"votacao_total_2022\" as \"table1\"\n",
      "                 ^\n",
      "\n"
     ]
    }
   ],
   "source": [
    "data_pipeline.execute_query(f'''\n",
    "    SELECT *\n",
    "    FROM \"{total_votes_table_name}\" as \"table1\"\n",
    "    LEFT JOIN \"{table_name[\"candidates\"]}\" AS \"table2\" ON \"table1\".\"SQ_CANDIDATO\" = \"table2\".\"SQ_CANDIDATO\" AND \"table1\".\"NR_VOTAVEL\" = \"table2\".\"NR_CANDIDATO\";\n",
    "''')"
   ]
  },
  {
   "cell_type": "code",
   "execution_count": 166,
   "metadata": {},
   "outputs": [
    {
     "data": {
      "text/html": [
       "<div>\n",
       "<style scoped>\n",
       "    .dataframe tbody tr th:only-of-type {\n",
       "        vertical-align: middle;\n",
       "    }\n",
       "\n",
       "    .dataframe tbody tr th {\n",
       "        vertical-align: top;\n",
       "    }\n",
       "\n",
       "    .dataframe thead th {\n",
       "        text-align: right;\n",
       "    }\n",
       "</style>\n",
       "<table border=\"1\" class=\"dataframe\">\n",
       "  <thead>\n",
       "    <tr style=\"text-align: right;\">\n",
       "      <th></th>\n",
       "      <th>DT_GERACAO</th>\n",
       "      <th>HH_GERACAO</th>\n",
       "      <th>AA_ELEICAO</th>\n",
       "      <th>SG_UF</th>\n",
       "      <th>CD_TIPO_ELEICAO</th>\n",
       "      <th>NM_TIPO_ELEICAO</th>\n",
       "      <th>CD_ELEICAO</th>\n",
       "      <th>DS_ELEICAO</th>\n",
       "      <th>SQ_CANDIDATO</th>\n",
       "      <th>NR_ORDEM</th>\n",
       "      <th>DS_URL</th>\n",
       "    </tr>\n",
       "  </thead>\n",
       "  <tbody>\n",
       "    <tr>\n",
       "      <th>0</th>\n",
       "      <td>14/08/2023</td>\n",
       "      <td>19:33:24</td>\n",
       "      <td>2022</td>\n",
       "      <td>TO</td>\n",
       "      <td>2</td>\n",
       "      <td>ELEIÇÃO ORDINÁRIA</td>\n",
       "      <td>546</td>\n",
       "      <td>ELEIÇÕES GERAIS ESTADUAIS 2022</td>\n",
       "      <td>270001697336</td>\n",
       "      <td>1</td>\n",
       "      <td>https://dilma107778.com</td>\n",
       "    </tr>\n",
       "    <tr>\n",
       "      <th>1</th>\n",
       "      <td>14/08/2023</td>\n",
       "      <td>19:33:24</td>\n",
       "      <td>2022</td>\n",
       "      <td>TO</td>\n",
       "      <td>2</td>\n",
       "      <td>ELEIÇÃO ORDINÁRIA</td>\n",
       "      <td>546</td>\n",
       "      <td>ELEIÇÕES GERAIS ESTADUAIS 2022</td>\n",
       "      <td>270001700076</td>\n",
       "      <td>2</td>\n",
       "      <td>https://www.facebook.com/deputadoelenil</td>\n",
       "    </tr>\n",
       "  </tbody>\n",
       "</table>\n",
       "</div>"
      ],
      "text/plain": [
       "   DT_GERACAO HH_GERACAO  AA_ELEICAO SG_UF  CD_TIPO_ELEICAO  \\\n",
       "0  14/08/2023   19:33:24        2022    TO                2   \n",
       "1  14/08/2023   19:33:24        2022    TO                2   \n",
       "\n",
       "     NM_TIPO_ELEICAO  CD_ELEICAO                      DS_ELEICAO  \\\n",
       "0  ELEIÇÃO ORDINÁRIA         546  ELEIÇÕES GERAIS ESTADUAIS 2022   \n",
       "1  ELEIÇÃO ORDINÁRIA         546  ELEIÇÕES GERAIS ESTADUAIS 2022   \n",
       "\n",
       "   SQ_CANDIDATO  NR_ORDEM                                   DS_URL  \n",
       "0  270001697336         1                  https://dilma107778.com  \n",
       "1  270001700076         2  https://www.facebook.com/deputadoelenil  "
      ]
     },
     "execution_count": 166,
     "metadata": {},
     "output_type": "execute_result"
    }
   ],
   "source": [
    "data_pipeline.execute_query(f'SELECT * FROM public.\"{table_name[\"social_media\"]}{UF}\" LIMIT 2')"
   ]
  },
  {
   "cell_type": "code",
   "execution_count": 167,
   "metadata": {},
   "outputs": [
    {
     "data": {
      "text/html": [
       "<div>\n",
       "<style scoped>\n",
       "    .dataframe tbody tr th:only-of-type {\n",
       "        vertical-align: middle;\n",
       "    }\n",
       "\n",
       "    .dataframe tbody tr th {\n",
       "        vertical-align: top;\n",
       "    }\n",
       "\n",
       "    .dataframe thead th {\n",
       "        text-align: right;\n",
       "    }\n",
       "</style>\n",
       "<table border=\"1\" class=\"dataframe\">\n",
       "  <thead>\n",
       "    <tr style=\"text-align: right;\">\n",
       "      <th></th>\n",
       "      <th>DT_GERACAO</th>\n",
       "      <th>HH_GERACAO</th>\n",
       "      <th>ANO_ELEICAO</th>\n",
       "      <th>CD_TIPO_ELEICAO</th>\n",
       "      <th>NM_TIPO_ELEICAO</th>\n",
       "      <th>NR_TURNO</th>\n",
       "      <th>CD_ELEICAO</th>\n",
       "      <th>DS_ELEICAO</th>\n",
       "      <th>DT_ELEICAO</th>\n",
       "      <th>TP_ABRANGENCIA</th>\n",
       "      <th>...</th>\n",
       "      <th>DS_SITUACAO_CANDIDATO_URNA</th>\n",
       "      <th>ST_CANDIDATO_INSERIDO_URNA</th>\n",
       "      <th>NM_TIPO_DESTINACAO_VOTOS</th>\n",
       "      <th>CD_SITUACAO_CANDIDATO_TOT</th>\n",
       "      <th>DS_SITUACAO_CANDIDATO_TOT</th>\n",
       "      <th>ST_PREST_CONTAS</th>\n",
       "      <th>ST_SUBSTITUIDO</th>\n",
       "      <th>SQ_SUBSTITUIDO</th>\n",
       "      <th>SQ_ORDEM_SUPLENCIA</th>\n",
       "      <th>DT_ACEITE_CANDIDATURA</th>\n",
       "    </tr>\n",
       "  </thead>\n",
       "  <tbody>\n",
       "    <tr>\n",
       "      <th>0</th>\n",
       "      <td>14/08/2023</td>\n",
       "      <td>19:31:51</td>\n",
       "      <td>2022</td>\n",
       "      <td>2</td>\n",
       "      <td>ELEIÇÃO ORDINÁRIA</td>\n",
       "      <td>1</td>\n",
       "      <td>546</td>\n",
       "      <td>Eleições Gerais Estaduais 2022</td>\n",
       "      <td>02/10/2022</td>\n",
       "      <td>ESTADUAL</td>\n",
       "      <td>...</td>\n",
       "      <td>#NULO#</td>\n",
       "      <td>NÃO</td>\n",
       "      <td>#NULO#</td>\n",
       "      <td>-1</td>\n",
       "      <td>#NULO#</td>\n",
       "      <td>N</td>\n",
       "      <td>N</td>\n",
       "      <td>-1</td>\n",
       "      <td>-1</td>\n",
       "      <td>14/08/2022 19:12:59</td>\n",
       "    </tr>\n",
       "    <tr>\n",
       "      <th>1</th>\n",
       "      <td>14/08/2023</td>\n",
       "      <td>19:31:51</td>\n",
       "      <td>2022</td>\n",
       "      <td>2</td>\n",
       "      <td>ELEIÇÃO ORDINÁRIA</td>\n",
       "      <td>1</td>\n",
       "      <td>546</td>\n",
       "      <td>Eleições Gerais Estaduais 2022</td>\n",
       "      <td>02/10/2022</td>\n",
       "      <td>ESTADUAL</td>\n",
       "      <td>...</td>\n",
       "      <td>DEFERIDO</td>\n",
       "      <td>SIM</td>\n",
       "      <td>Válido</td>\n",
       "      <td>2</td>\n",
       "      <td>Deferido</td>\n",
       "      <td>S</td>\n",
       "      <td>N</td>\n",
       "      <td>-1</td>\n",
       "      <td>-1</td>\n",
       "      <td>14/08/2022 19:12:59</td>\n",
       "    </tr>\n",
       "  </tbody>\n",
       "</table>\n",
       "<p>2 rows × 75 columns</p>\n",
       "</div>"
      ],
      "text/plain": [
       "   DT_GERACAO HH_GERACAO  ANO_ELEICAO  CD_TIPO_ELEICAO    NM_TIPO_ELEICAO  \\\n",
       "0  14/08/2023   19:31:51         2022                2  ELEIÇÃO ORDINÁRIA   \n",
       "1  14/08/2023   19:31:51         2022                2  ELEIÇÃO ORDINÁRIA   \n",
       "\n",
       "   NR_TURNO  CD_ELEICAO                      DS_ELEICAO  DT_ELEICAO  \\\n",
       "0         1         546  Eleições Gerais Estaduais 2022  02/10/2022   \n",
       "1         1         546  Eleições Gerais Estaduais 2022  02/10/2022   \n",
       "\n",
       "  TP_ABRANGENCIA  ... DS_SITUACAO_CANDIDATO_URNA ST_CANDIDATO_INSERIDO_URNA  \\\n",
       "0       ESTADUAL  ...                     #NULO#                        NÃO   \n",
       "1       ESTADUAL  ...                   DEFERIDO                        SIM   \n",
       "\n",
       "  NM_TIPO_DESTINACAO_VOTOS  CD_SITUACAO_CANDIDATO_TOT  \\\n",
       "0                   #NULO#                         -1   \n",
       "1                   Válido                          2   \n",
       "\n",
       "  DS_SITUACAO_CANDIDATO_TOT  ST_PREST_CONTAS  ST_SUBSTITUIDO SQ_SUBSTITUIDO  \\\n",
       "0                    #NULO#                N               N             -1   \n",
       "1                  Deferido                S               N             -1   \n",
       "\n",
       "  SQ_ORDEM_SUPLENCIA DT_ACEITE_CANDIDATURA  \n",
       "0                 -1   14/08/2022 19:12:59  \n",
       "1                 -1   14/08/2022 19:12:59  \n",
       "\n",
       "[2 rows x 75 columns]"
      ]
     },
     "execution_count": 167,
     "metadata": {},
     "output_type": "execute_result"
    }
   ],
   "source": [
    "data_pipeline.execute_query(f'SELECT * FROM public.\"{table_name[\"candidates\"]}{UF}\" LIMIT 2')"
   ]
  },
  {
   "cell_type": "code",
   "execution_count": 168,
   "metadata": {},
   "outputs": [
    {
     "data": {
      "text/html": [
       "<div>\n",
       "<style scoped>\n",
       "    .dataframe tbody tr th:only-of-type {\n",
       "        vertical-align: middle;\n",
       "    }\n",
       "\n",
       "    .dataframe tbody tr th {\n",
       "        vertical-align: top;\n",
       "    }\n",
       "\n",
       "    .dataframe thead th {\n",
       "        text-align: right;\n",
       "    }\n",
       "</style>\n",
       "<table border=\"1\" class=\"dataframe\">\n",
       "  <thead>\n",
       "    <tr style=\"text-align: right;\">\n",
       "      <th></th>\n",
       "      <th>UF</th>\n",
       "      <th>Codigo</th>\n",
       "      <th>Gentilico</th>\n",
       "      <th>Governador</th>\n",
       "      <th>Capital</th>\n",
       "      <th>Area Territorial - km2</th>\n",
       "      <th>Populacao - pessoas</th>\n",
       "      <th>Densidade demografica - hab/km2</th>\n",
       "      <th>Matriculas no ensino fundamental - matriculas</th>\n",
       "      <th>IDH Indice de desenvolvimento humano</th>\n",
       "      <th>Receitas realizadas - R$ (x1000)</th>\n",
       "      <th>Despesas empenhadas - R$ (x1000)</th>\n",
       "      <th>Rendimento mensal domiciliar per capita - R$</th>\n",
       "      <th>Total de veiculos - veiculos</th>\n",
       "      <th>Unnamed: 14</th>\n",
       "    </tr>\n",
       "  </thead>\n",
       "  <tbody>\n",
       "    <tr>\n",
       "      <th>0</th>\n",
       "      <td>Acre</td>\n",
       "      <td>12</td>\n",
       "      <td>acriano</td>\n",
       "      <td>GLADSON DE LIMA CAMELI</td>\n",
       "      <td>Rio Branco</td>\n",
       "      <td>164173.429</td>\n",
       "      <td>830026</td>\n",
       "      <td>5.06</td>\n",
       "      <td>153015</td>\n",
       "      <td>0.710</td>\n",
       "      <td>6.632883e+06</td>\n",
       "      <td>6.084417e+06</td>\n",
       "      <td>1038</td>\n",
       "      <td>334377</td>\n",
       "      <td>None</td>\n",
       "    </tr>\n",
       "    <tr>\n",
       "      <th>1</th>\n",
       "      <td>Alagoas</td>\n",
       "      <td>27</td>\n",
       "      <td>alagoano</td>\n",
       "      <td>PAULO SURUAGY DO AMARAL DANTAS</td>\n",
       "      <td>Macei&amp;oacute;</td>\n",
       "      <td>27830.661</td>\n",
       "      <td>3127511</td>\n",
       "      <td>112.38</td>\n",
       "      <td>458782</td>\n",
       "      <td>0.684</td>\n",
       "      <td>1.195044e+07</td>\n",
       "      <td>1.046063e+07</td>\n",
       "      <td>935</td>\n",
       "      <td>1034187</td>\n",
       "      <td>None</td>\n",
       "    </tr>\n",
       "  </tbody>\n",
       "</table>\n",
       "</div>"
      ],
      "text/plain": [
       "        UF  Codigo Gentilico                      Governador        Capital  \\\n",
       "0     Acre      12   acriano          GLADSON DE LIMA CAMELI     Rio Branco   \n",
       "1  Alagoas      27  alagoano  PAULO SURUAGY DO AMARAL DANTAS  Macei&oacute;   \n",
       "\n",
       "   Area Territorial - km2  Populacao - pessoas  \\\n",
       "0              164173.429               830026   \n",
       "1               27830.661              3127511   \n",
       "\n",
       "   Densidade demografica - hab/km2  \\\n",
       "0                             5.06   \n",
       "1                           112.38   \n",
       "\n",
       "   Matriculas no ensino fundamental - matriculas  \\\n",
       "0                                         153015   \n",
       "1                                         458782   \n",
       "\n",
       "   IDH Indice de desenvolvimento humano  Receitas realizadas - R$ (x1000)  \\\n",
       "0                                 0.710                      6.632883e+06   \n",
       "1                                 0.684                      1.195044e+07   \n",
       "\n",
       "   Despesas empenhadas - R$ (x1000)  \\\n",
       "0                      6.084417e+06   \n",
       "1                      1.046063e+07   \n",
       "\n",
       "   Rendimento mensal domiciliar per capita - R$  Total de veiculos - veiculos  \\\n",
       "0                                          1038                        334377   \n",
       "1                                           935                       1034187   \n",
       "\n",
       "  Unnamed: 14  \n",
       "0        None  \n",
       "1        None  "
      ]
     },
     "execution_count": 168,
     "metadata": {},
     "output_type": "execute_result"
    }
   ],
   "source": [
    "data_pipeline.execute_query(\"SELECT * FROM public.\\\"estados_brasil\\\" LIMIT 2\")"
   ]
  }
 ],
 "metadata": {
  "kernelspec": {
   "display_name": "Python 3",
   "language": "python",
   "name": "python3"
  },
  "language_info": {
   "codemirror_mode": {
    "name": "ipython",
    "version": 3
   },
   "file_extension": ".py",
   "mimetype": "text/x-python",
   "name": "python",
   "nbconvert_exporter": "python",
   "pygments_lexer": "ipython3",
   "version": "3.10.12"
  },
  "orig_nbformat": 4
 },
 "nbformat": 4,
 "nbformat_minor": 2
}
